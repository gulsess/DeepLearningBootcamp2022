{
 "cells": [
  {
   "cell_type": "code",
   "execution_count": 44,
   "id": "ddc8f1f2",
   "metadata": {},
   "outputs": [
    {
     "name": "stdout",
     "output_type": "stream",
     "text": [
      "(6549, 37, 37)\n",
      "(1637, 37, 37)\n",
      "(546, 37, 37)\n",
      "(6549,)\n",
      "(1637,)\n",
      "(546,)\n"
     ]
    }
   ],
   "source": [
    "import pandas as pd\n",
    "import matplotlib.pyplot as plt\n",
    "import numpy as np\n",
    "import os\n",
    "import cv2\n",
    "from sklearn.model_selection import train_test_split\n",
    "import tensorflow as tf\n",
    "\n",
    "# 2.Önişleme \n",
    "#image path \n",
    "img_path=\"C:/Users/musta/Downloads/spectrograms/\"\n",
    "\n",
    "folder_list=[\"0\",\"1\",\"2\",\"3\",\"4\",\"5\",\"6\",\"7\",\"8\",\"9\"]\n",
    "\n",
    "classes=[\"air_conditioner\",\"car_horn\",\"children_playing\",\"dog_bark\",\"drilling\",\"engine_idling\",\n",
    "           \"gun_shot\",\"jackhammer\",\"siren\",\"street_music\"]\n",
    "\n",
    "img_files_list=[]\n",
    "\n",
    "# -b- görüntüleri ait oldukları etiketlerle listeye eklemek\n",
    "for folder in folder_list:\n",
    "    for img_file in os.listdir(img_path+folder):\n",
    "        image=img_path+folder+\"/\"+img_file\n",
    "        img_files_list.append([image,classes[int(folder)]])\n",
    "        \n",
    "df=pd.DataFrame(img_files_list,columns=[\"img\",\"label\"])\n",
    "df_labels = {\n",
    "    'air_conditioner' : 0,\n",
    "    'car_horn' : 1,\n",
    "    'children_playing' : 2,\n",
    "    'dog_bark' : 3,\n",
    "    'drilling': 4,\n",
    "    'engine_idling':5,\n",
    "    'gun_shot':6,\n",
    "    'jackhammer':7,\n",
    "    'siren':8,\n",
    "    'street_music':9,\n",
    "    \n",
    "}\n",
    "df['label_code'] = df['label'].map(df_labels)\n",
    "\n",
    "\n",
    "X=[]\n",
    "\n",
    "# Görüntüleri sırasıyla okuyamak, grayscale dönüşümü, resizing ve normalizasyon yapmak\n",
    "dim = (37, 37)\n",
    "for img in df[\"img\"]:\n",
    "    #grayscale\n",
    "    img=cv2.imread(str(img),cv2.IMREAD_GRAYSCALE)\n",
    "    #resizing\n",
    "    img = cv2.resize(img,dim)\n",
    "    #normalization\n",
    "    img = img / 255\n",
    "    X.append(img)\n",
    "\n",
    "# -c- X_train, y_train, X_val, y_val, X_test ve y_test veri setlerini oluşturmak.\n",
    "\n",
    "y = df[\"label_code\"]\n",
    "X_train, X_test_val, y_train, y_test_val = train_test_split(X, y)\n",
    "X_test, X_val, y_test, y_val = train_test_split(X_test_val, y_test_val)\n",
    "\n",
    "\n",
    "X_train = np.array(X_train)\n",
    "X_test = np.array(X_test)\n",
    "X_val = np.array(X_val)\n",
    "y_train = np.array(y_train)\n",
    "y_test = np.array(y_test)\n",
    "y_val = np.array(y_val)\n",
    "\n",
    "print(X_train.shape)\n",
    "print(X_test.shape)\n",
    "print(X_val.shape)\n",
    "print(y_train.shape)\n",
    "print(y_test.shape)\n",
    "print(y_val.shape)\n",
    "\n",
    "X_train = X_train.reshape(-1,37,37,1)\n",
    "X_test = X_test.reshape(-1,37,37,1)\n",
    "X_val = X_val.reshape(-1,37,37,1)\n",
    "y_train = y_train.reshape(-1,)\n",
    "y_test = y_test.reshape(-1,)\n",
    "y_val = y_val.reshape(-1,)\n",
    "\n",
    "\n",
    "\n",
    "#3.Model Hazırlanması ve Eğitimi \n",
    "model=tf.keras.Sequential()\n",
    "model.add(tf.keras.layers.Conv2D(32,\n",
    "                       kernel_size=(3,3),\n",
    "                       strides=(1,1),\n",
    "                       padding=\"same\",\n",
    "                       activation=\"relu\",\n",
    "                       input_shape=(37,37,1)))\n",
    "model.add(tf.keras.layers.MaxPooling2D((2,2)))\n",
    "model.add(tf.keras.layers.Conv2D(64,\n",
    "                        kernel_size=(3,3),\n",
    "                       strides=(1,1),\n",
    "                       padding=\"same\",\n",
    "                       activation=\"relu\",))\n",
    "model.add(tf.keras.layers.MaxPooling2D((2,2)))\n",
    "model.add(tf.keras.layers.Conv2D(32,\n",
    "                       kernel_size=(3,3),\n",
    "                       strides=(1,1),\n",
    "                       padding=\"same\",\n",
    "                       activation=\"relu\",))\n"
   ]
  },
  {
   "cell_type": "code",
   "execution_count": 45,
   "id": "f4a8e1bb",
   "metadata": {},
   "outputs": [],
   "source": [
    "model.add(tf.keras.layers.Flatten())"
   ]
  },
  {
   "cell_type": "code",
   "execution_count": 46,
   "id": "a618f527",
   "metadata": {},
   "outputs": [],
   "source": [
    "model.add(tf.keras.layers.Dense(64,activation=\"relu\"))\n",
    "model.add(tf.keras.layers.Dropout(0.5))\n",
    "model.add(tf.keras.layers.Dense(64,activation=\"relu\"))\n",
    "model.add(tf.keras.layers.Dropout(0.5))\n"
   ]
  },
  {
   "cell_type": "code",
   "execution_count": 47,
   "id": "9f340ecf",
   "metadata": {},
   "outputs": [],
   "source": [
    "model.add(tf.keras.layers.Dense(10,activation=\"softmax\"))"
   ]
  },
  {
   "cell_type": "code",
   "execution_count": 48,
   "id": "613333f8",
   "metadata": {},
   "outputs": [],
   "source": [
    "model.compile(optimizer=\"adam\",\n",
    "             loss=\"sparse_categorical_crossentropy\",\n",
    "             metrics=[\"accuracy\"])"
   ]
  },
  {
   "cell_type": "code",
   "execution_count": 49,
   "id": "d93a9af7",
   "metadata": {
    "scrolled": true
   },
   "outputs": [
    {
     "name": "stdout",
     "output_type": "stream",
     "text": [
      "Epoch 1/50\n",
      "52/52 [==============================] - 5s 81ms/step - loss: 2.1136 - accuracy: 0.2074 - val_loss: 1.7408 - val_accuracy: 0.3278\n",
      "Epoch 2/50\n",
      "52/52 [==============================] - 5s 87ms/step - loss: 1.8433 - accuracy: 0.3211 - val_loss: 1.5284 - val_accuracy: 0.4505\n",
      "Epoch 3/50\n",
      "52/52 [==============================] - 5s 91ms/step - loss: 1.6577 - accuracy: 0.3912 - val_loss: 1.3315 - val_accuracy: 0.5348\n",
      "Epoch 4/50\n",
      "52/52 [==============================] - 5s 94ms/step - loss: 1.5493 - accuracy: 0.4485 - val_loss: 1.1969 - val_accuracy: 0.5971\n",
      "Epoch 5/50\n",
      "52/52 [==============================] - 4s 86ms/step - loss: 1.4259 - accuracy: 0.4851 - val_loss: 1.1113 - val_accuracy: 0.6245\n",
      "Epoch 6/50\n",
      "52/52 [==============================] - 4s 82ms/step - loss: 1.3148 - accuracy: 0.5413 - val_loss: 1.1026 - val_accuracy: 0.6410\n",
      "Epoch 7/50\n",
      "52/52 [==============================] - 4s 83ms/step - loss: 1.2560 - accuracy: 0.5700 - val_loss: 1.0034 - val_accuracy: 0.6703\n",
      "Epoch 8/50\n",
      "52/52 [==============================] - 4s 86ms/step - loss: 1.2096 - accuracy: 0.5798 - val_loss: 1.0077 - val_accuracy: 0.6722\n",
      "Epoch 9/50\n",
      "52/52 [==============================] - 4s 84ms/step - loss: 1.1448 - accuracy: 0.6053 - val_loss: 0.8947 - val_accuracy: 0.6978\n",
      "Epoch 10/50\n",
      "52/52 [==============================] - 4s 80ms/step - loss: 1.0759 - accuracy: 0.6363 - val_loss: 0.9251 - val_accuracy: 0.6941\n",
      "Epoch 11/50\n",
      "52/52 [==============================] - 4s 79ms/step - loss: 1.0584 - accuracy: 0.6367 - val_loss: 0.8687 - val_accuracy: 0.7344\n",
      "Epoch 12/50\n",
      "52/52 [==============================] - 4s 79ms/step - loss: 1.0017 - accuracy: 0.6581 - val_loss: 0.8896 - val_accuracy: 0.6923\n",
      "Epoch 13/50\n",
      "52/52 [==============================] - 4s 79ms/step - loss: 0.9944 - accuracy: 0.6696 - val_loss: 0.8091 - val_accuracy: 0.7198\n",
      "Epoch 14/50\n",
      "52/52 [==============================] - 4s 79ms/step - loss: 0.9431 - accuracy: 0.6825 - val_loss: 0.8052 - val_accuracy: 0.7344\n",
      "Epoch 15/50\n",
      "52/52 [==============================] - 4s 79ms/step - loss: 0.8904 - accuracy: 0.6952 - val_loss: 0.7694 - val_accuracy: 0.7436\n",
      "Epoch 16/50\n",
      "52/52 [==============================] - 4s 78ms/step - loss: 0.8783 - accuracy: 0.7074 - val_loss: 0.7462 - val_accuracy: 0.7546\n",
      "Epoch 17/50\n",
      "52/52 [==============================] - 4s 79ms/step - loss: 0.8542 - accuracy: 0.7187 - val_loss: 0.7312 - val_accuracy: 0.7491\n",
      "Epoch 18/50\n",
      "52/52 [==============================] - 4s 80ms/step - loss: 0.8151 - accuracy: 0.7303 - val_loss: 0.8846 - val_accuracy: 0.7051\n",
      "Epoch 19/50\n",
      "52/52 [==============================] - 4s 80ms/step - loss: 0.7995 - accuracy: 0.7329 - val_loss: 0.7115 - val_accuracy: 0.7637\n",
      "Epoch 20/50\n",
      "52/52 [==============================] - 4s 79ms/step - loss: 0.7661 - accuracy: 0.7461 - val_loss: 0.7146 - val_accuracy: 0.7564\n",
      "Epoch 21/50\n",
      "52/52 [==============================] - 4s 79ms/step - loss: 0.7457 - accuracy: 0.7464 - val_loss: 0.6668 - val_accuracy: 0.7747\n",
      "Epoch 22/50\n",
      "52/52 [==============================] - 4s 79ms/step - loss: 0.7026 - accuracy: 0.7616 - val_loss: 0.7471 - val_accuracy: 0.7564\n",
      "Epoch 23/50\n",
      "52/52 [==============================] - 4s 79ms/step - loss: 0.6921 - accuracy: 0.7687 - val_loss: 0.6663 - val_accuracy: 0.7839\n",
      "Epoch 24/50\n",
      "52/52 [==============================] - 4s 80ms/step - loss: 0.6634 - accuracy: 0.7725 - val_loss: 0.6249 - val_accuracy: 0.7985\n",
      "Epoch 25/50\n",
      "52/52 [==============================] - 4s 79ms/step - loss: 0.6383 - accuracy: 0.7862 - val_loss: 0.5982 - val_accuracy: 0.8077\n",
      "Epoch 26/50\n",
      "52/52 [==============================] - 4s 79ms/step - loss: 0.6144 - accuracy: 0.7951 - val_loss: 0.6251 - val_accuracy: 0.7894\n",
      "Epoch 27/50\n",
      "52/52 [==============================] - 4s 79ms/step - loss: 0.6192 - accuracy: 0.7971 - val_loss: 0.6090 - val_accuracy: 0.8040\n",
      "Epoch 28/50\n",
      "52/52 [==============================] - 4s 79ms/step - loss: 0.5677 - accuracy: 0.8061 - val_loss: 0.6015 - val_accuracy: 0.8205\n",
      "Epoch 29/50\n",
      "52/52 [==============================] - 4s 84ms/step - loss: 0.5568 - accuracy: 0.8105 - val_loss: 0.6931 - val_accuracy: 0.7967\n",
      "Epoch 30/50\n",
      "52/52 [==============================] - 4s 80ms/step - loss: 0.5379 - accuracy: 0.8174 - val_loss: 0.6588 - val_accuracy: 0.8095\n",
      "Epoch 31/50\n",
      "52/52 [==============================] - 4s 85ms/step - loss: 0.5507 - accuracy: 0.8148 - val_loss: 0.5955 - val_accuracy: 0.8223\n",
      "Epoch 32/50\n",
      "52/52 [==============================] - 5s 89ms/step - loss: 0.5100 - accuracy: 0.8256 - val_loss: 0.5731 - val_accuracy: 0.8278\n",
      "Epoch 33/50\n",
      "52/52 [==============================] - 5s 93ms/step - loss: 0.4834 - accuracy: 0.8325 - val_loss: 0.6869 - val_accuracy: 0.7912\n",
      "Epoch 34/50\n",
      "52/52 [==============================] - 5s 93ms/step - loss: 0.4944 - accuracy: 0.8328 - val_loss: 0.5459 - val_accuracy: 0.8370\n",
      "Epoch 35/50\n",
      "52/52 [==============================] - 5s 87ms/step - loss: 0.4745 - accuracy: 0.8377 - val_loss: 0.5662 - val_accuracy: 0.8278\n",
      "Epoch 36/50\n",
      "52/52 [==============================] - 5s 87ms/step - loss: 0.4606 - accuracy: 0.8375 - val_loss: 0.5485 - val_accuracy: 0.8388\n",
      "Epoch 37/50\n",
      "52/52 [==============================] - 5s 91ms/step - loss: 0.4583 - accuracy: 0.8427 - val_loss: 0.6391 - val_accuracy: 0.8059\n",
      "Epoch 38/50\n",
      "52/52 [==============================] - 4s 78ms/step - loss: 0.4659 - accuracy: 0.8371 - val_loss: 0.5720 - val_accuracy: 0.8370\n",
      "Epoch 39/50\n",
      "52/52 [==============================] - 4s 78ms/step - loss: 0.4565 - accuracy: 0.8429 - val_loss: 0.6018 - val_accuracy: 0.8315\n",
      "Epoch 40/50\n",
      "52/52 [==============================] - 4s 77ms/step - loss: 0.4644 - accuracy: 0.8365 - val_loss: 0.6186 - val_accuracy: 0.8223\n",
      "Epoch 41/50\n",
      "52/52 [==============================] - 4s 79ms/step - loss: 0.4098 - accuracy: 0.8571 - val_loss: 0.6010 - val_accuracy: 0.8388\n",
      "Epoch 42/50\n",
      "52/52 [==============================] - 4s 83ms/step - loss: 0.4211 - accuracy: 0.8533 - val_loss: 0.5826 - val_accuracy: 0.8333\n",
      "Epoch 43/50\n",
      "52/52 [==============================] - 4s 85ms/step - loss: 0.4085 - accuracy: 0.8533 - val_loss: 0.5560 - val_accuracy: 0.8462\n",
      "Epoch 44/50\n",
      "52/52 [==============================] - 4s 79ms/step - loss: 0.3944 - accuracy: 0.8630 - val_loss: 0.5347 - val_accuracy: 0.8498\n",
      "Epoch 45/50\n",
      "52/52 [==============================] - 4s 78ms/step - loss: 0.3682 - accuracy: 0.8664 - val_loss: 0.5202 - val_accuracy: 0.8480\n",
      "Epoch 46/50\n",
      "52/52 [==============================] - 5s 90ms/step - loss: 0.3544 - accuracy: 0.8742 - val_loss: 0.6019 - val_accuracy: 0.8498\n",
      "Epoch 47/50\n",
      "52/52 [==============================] - 4s 86ms/step - loss: 0.3609 - accuracy: 0.8730 - val_loss: 0.5630 - val_accuracy: 0.8443\n",
      "Epoch 48/50\n",
      "52/52 [==============================] - 4s 79ms/step - loss: 0.3652 - accuracy: 0.8698 - val_loss: 0.5849 - val_accuracy: 0.8425\n",
      "Epoch 49/50\n",
      "52/52 [==============================] - 4s 81ms/step - loss: 0.3451 - accuracy: 0.8762 - val_loss: 0.5654 - val_accuracy: 0.8645\n",
      "Epoch 50/50\n",
      "52/52 [==============================] - 5s 91ms/step - loss: 0.3443 - accuracy: 0.8789 - val_loss: 0.5699 - val_accuracy: 0.8480\n"
     ]
    }
   ],
   "source": [
    "X_train=tf.stack(X_train)\n",
    "y_train=tf.stack(y_train)\n",
    "X_val=tf.stack(X_val)\n",
    "y_val=tf.stack(y_val)\n",
    "results=model.fit(X_train,y_train,\n",
    "                 batch_size=128,\n",
    "                 epochs=50,validation_data=(X_val,y_val))\n"
   ]
  },
  {
   "cell_type": "code",
   "execution_count": 50,
   "id": "04cc6f7f",
   "metadata": {},
   "outputs": [
    {
     "data": {
      "image/png": "[encoded data removed]",
      "text/plain": [
       "<Figure size 432x288 with 1 Axes>"
      ]
     },
     "metadata": {
      "needs_background": "light"
     },
     "output_type": "display_data"
    }
   ],
   "source": [
    "plt.plot(results.history[\"loss\"],label=\"loss\")\n",
    "plt.plot(results.history[\"val_loss\"],label=\"val_loss\")\n",
    "plt.xlabel(\"Epoch\")\n",
    "plt.ylabel(\"Loss\")\n",
    "plt.legend()\n",
    "plt.show()"
   ]
  },
  {
   "cell_type": "code",
   "execution_count": 51,
   "id": "27ace523",
   "metadata": {},
   "outputs": [
    {
     "data": {
      "image/png": "[encoded data removed]",
      "text/plain": [
       "<Figure size 432x288 with 1 Axes>"
      ]
     },
     "metadata": {
      "needs_background": "light"
     },
     "output_type": "display_data"
    }
   ],
   "source": [
    "plt.plot(results.history[\"accuracy\"],label=\"accuracy\")\n",
    "plt.plot(results.history[\"val_accuracy\"],label=\"val_accuracy\")\n",
    "plt.xlabel(\"Epoch\")\n",
    "plt.ylabel(\"Loss\")\n",
    "plt.legend()\n",
    "plt.show()"
   ]
  },
  {
   "cell_type": "code",
   "execution_count": 52,
   "id": "f942ccc4",
   "metadata": {},
   "outputs": [
    {
     "name": "stdout",
     "output_type": "stream",
     "text": [
      "52/52 [==============================] - 0s 8ms/step - loss: 0.5327 - accuracy: 0.8668\n"
     ]
    },
    {
     "data": {
      "text/plain": [
       "[0.5327171683311462, 0.8668295741081238]"
      ]
     },
     "execution_count": 52,
     "metadata": {},
     "output_type": "execute_result"
    }
   ],
   "source": [
    "X_test=tf.stack(X_test)\n",
    "y_test=tf.stack(y_test)\n",
    "model.evaluate(X_test,y_test)"
   ]
  },
  {
   "cell_type": "code",
   "execution_count": null,
   "id": "61f627a0",
   "metadata": {},
   "outputs": [],
   "source": []
  },
  {
   "cell_type": "code",
   "execution_count": null,
   "id": "bbc798bd",
   "metadata": {},
   "outputs": [],
   "source": []
  }
 ],
 "metadata": {
  "kernelspec": {
   "display_name": "Python 3",
   "language": "python",
   "name": "python3"
  },
  "language_info": {
   "codemirror_mode": {
    "name": "ipython",
    "version": 3
   },
   "file_extension": ".py",
   "mimetype": "text/x-python",
   "name": "python",
   "nbconvert_exporter": "python",
   "pygments_lexer": "ipython3",
   "version": "3.8.8"
  }
 },
 "nbformat": 4,
 "nbformat_minor": 5
}
